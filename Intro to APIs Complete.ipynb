{
 "cells": [
  {
   "cell_type": "markdown",
   "id": "7196054f",
   "metadata": {},
   "source": [
    "# Working with APIs"
   ]
  },
  {
   "cell_type": "markdown",
   "id": "0547b71e",
   "metadata": {},
   "source": [
    "API stands for Application programming interface<br>\n",
    "APIs are a way for applications to talk to eachother<br>\n",
    "In python we use the requests package to handle the connection<br>\n",
    "<small><strong>Note: It is requests with an s not request(this is a different package)</strong></small><br>\n",
    "Most API's communicate with data in the form of JSON<br>\n",
    "JSON stands for JavaScript Object Notation"
   ]
  },
  {
   "cell_type": "code",
   "execution_count": 1,
   "id": "4db9d154",
   "metadata": {},
   "outputs": [],
   "source": [
    "#import the packages we need:\n",
    "import requests"
   ]
  },
  {
   "cell_type": "markdown",
   "id": "e8c2ce51",
   "metadata": {},
   "source": [
    "We will be connecting to the Ergast F1 Racer API today:\n",
    "http://ergast.com/mrd/\n",
    "\n",
    "to view JSON data nicely in the Chrome browser install the extension JSONview"
   ]
  },
  {
   "cell_type": "code",
   "execution_count": 2,
   "id": "52c440c6",
   "metadata": {},
   "outputs": [
    {
     "name": "stdout",
     "output_type": "stream",
     "text": [
      "Help on package requests:\n",
      "\n",
      "NAME\n",
      "    requests\n",
      "\n",
      "DESCRIPTION\n",
      "    Requests HTTP Library\n",
      "    ~~~~~~~~~~~~~~~~~~~~~\n",
      "    \n",
      "    Requests is an HTTP library, written in Python, for human beings.\n",
      "    Basic GET usage:\n",
      "    \n",
      "       >>> import requests\n",
      "       >>> r = requests.get('https://www.python.org')\n",
      "       >>> r.status_code\n",
      "       200\n",
      "       >>> b'Python is a programming language' in r.content\n",
      "       True\n",
      "    \n",
      "    ... or POST:\n",
      "    \n",
      "       >>> payload = dict(key1='value1', key2='value2')\n",
      "       >>> r = requests.post('https://httpbin.org/post', data=payload)\n",
      "       >>> print(r.text)\n",
      "       {\n",
      "         ...\n",
      "         \"form\": {\n",
      "           \"key1\": \"value1\",\n",
      "           \"key2\": \"value2\"\n",
      "         },\n",
      "         ...\n",
      "       }\n",
      "    \n",
      "    The other HTTP methods are supported - see `requests.api`. Full documentation\n",
      "    is at <https://requests.readthedocs.io>.\n",
      "    \n",
      "    :copyright: (c) 2017 by Kenneth Reitz.\n",
      "    :license: Apache 2.0, see LICENSE for more details.\n",
      "\n",
      "PACKAGE CONTENTS\n",
      "    __version__\n",
      "    _internal_utils\n",
      "    adapters\n",
      "    api\n",
      "    auth\n",
      "    certs\n",
      "    compat\n",
      "    cookies\n",
      "    exceptions\n",
      "    help\n",
      "    hooks\n",
      "    models\n",
      "    packages\n",
      "    sessions\n",
      "    status_codes\n",
      "    structures\n",
      "    utils\n",
      "\n",
      "FUNCTIONS\n",
      "    check_compatibility(urllib3_version, chardet_version, charset_normalizer_version)\n",
      "\n",
      "DATA\n",
      "    __author_email__ = 'me@kennethreitz.org'\n",
      "    __build__ = 141057\n",
      "    __cake__ = '✨ 🍰 ✨'\n",
      "    __copyright__ = 'Copyright 2022 Kenneth Reitz'\n",
      "    __description__ = 'Python HTTP for Humans.'\n",
      "    __license__ = 'Apache 2.0'\n",
      "    __title__ = 'requests'\n",
      "    __url__ = 'https://requests.readthedocs.io'\n",
      "    chardet_version = '4.0.0'\n",
      "    charset_normalizer_version = '2.0.4'\n",
      "    codes = <lookup 'status_codes'>\n",
      "\n",
      "VERSION\n",
      "    2.27.1\n",
      "\n",
      "AUTHOR\n",
      "    Kenneth Reitz\n",
      "\n",
      "FILE\n",
      "    c:\\users\\sia_m\\anaconda3\\lib\\site-packages\\requests\\__init__.py\n",
      "\n",
      "\n"
     ]
    }
   ],
   "source": [
    "help(requests)"
   ]
  },
  {
   "cell_type": "code",
   "execution_count": 3,
   "id": "f60c1b4a",
   "metadata": {},
   "outputs": [
    {
     "name": "stdout",
     "output_type": "stream",
     "text": [
      "What pokemon are you looking for?ditto\n"
     ]
    },
    {
     "data": {
      "text/plain": [
       "<Response [200]>"
      ]
     },
     "execution_count": 3,
     "metadata": {},
     "output_type": "execute_result"
    }
   ],
   "source": [
    "pokemon = input(\"What pokemon are you looking for?\")\n",
    "url = f'https://pokeapi.co/api/v2/pokemon/{pokemon}'\n",
    "requests.get(url)"
   ]
  },
  {
   "cell_type": "code",
   "execution_count": 4,
   "id": "7b63a204",
   "metadata": {},
   "outputs": [
    {
     "name": "stdout",
     "output_type": "stream",
     "text": [
      "<Response [200]>\n"
     ]
    }
   ],
   "source": [
    "#response object\n",
    "response = requests.get(url)\n",
    "print(response)\n"
   ]
  },
  {
   "cell_type": "code",
   "execution_count": 5,
   "id": "c6d1fdaf",
   "metadata": {},
   "outputs": [
    {
     "data": {
      "text/plain": [
       "True"
      ]
     },
     "execution_count": 5,
     "metadata": {},
     "output_type": "execute_result"
    }
   ],
   "source": [
    "#check and make sure we got a successful response from the API\n",
    "response.ok"
   ]
  },
  {
   "cell_type": "code",
   "execution_count": 148,
   "id": "ed4d3256",
   "metadata": {},
   "outputs": [],
   "source": [
    "#view the response as a JSON\n",
    "my_dict = response.json()\n"
   ]
  },
  {
   "cell_type": "code",
   "execution_count": 117,
   "id": "92e6cd2c",
   "metadata": {},
   "outputs": [
    {
     "data": {
      "text/plain": [
       "dict"
      ]
     },
     "execution_count": 117,
     "metadata": {},
     "output_type": "execute_result"
    }
   ],
   "source": [
    "type(response.json())"
   ]
  },
  {
   "cell_type": "code",
   "execution_count": 147,
   "id": "f074dfcf",
   "metadata": {
    "scrolled": true
   },
   "outputs": [
    {
     "ename": "TypeError",
     "evalue": "string indices must be integers",
     "output_type": "error",
     "traceback": [
      "\u001b[1;31m---------------------------------------------------------------------------\u001b[0m",
      "\u001b[1;31mTypeError\u001b[0m                                 Traceback (most recent call last)",
      "Cell \u001b[1;32mIn [147], line 2\u001b[0m\n\u001b[0;32m      1\u001b[0m \u001b[38;5;66;03m# We only want the Driver Standings\u001b[39;00m\n\u001b[1;32m----> 2\u001b[0m info \u001b[38;5;241m=\u001b[39m response\u001b[38;5;241m.\u001b[39mjson()[\u001b[38;5;124m\"\u001b[39m\u001b[38;5;124mname\u001b[39m\u001b[38;5;124m\"\u001b[39m][\u001b[38;5;124m\"\u001b[39m\u001b[38;5;124msprites\u001b[39m\u001b[38;5;124m\"\u001b[39m][\u001b[38;5;124m\"\u001b[39m\u001b[38;5;124mfront_shiny\u001b[39m\u001b[38;5;124m\"\u001b[39m]\n\u001b[0;32m      4\u001b[0m \u001b[38;5;28mprint\u001b[39m(info)\n",
      "\u001b[1;31mTypeError\u001b[0m: string indices must be integers"
     ]
    }
   ],
   "source": [
    "# We only want the Driver Standings\n",
    "info = response.json()[\"name\"][\"sprites\"][\"front_shiny\"][\"abilities\"][0]\n",
    "\n",
    "print(info)\n"
   ]
  },
  {
   "cell_type": "code",
   "execution_count": null,
   "id": "8346bba4",
   "metadata": {},
   "outputs": [],
   "source": []
  },
  {
   "cell_type": "code",
   "execution_count": null,
   "id": "cba23099",
   "metadata": {},
   "outputs": [],
   "source": []
  },
  {
   "cell_type": "code",
   "execution_count": null,
   "id": "235b8a3b",
   "metadata": {},
   "outputs": [],
   "source": []
  },
  {
   "cell_type": "code",
   "execution_count": null,
   "id": "c439b4b0",
   "metadata": {},
   "outputs": [],
   "source": []
  },
  {
   "cell_type": "code",
   "execution_count": null,
   "id": "b966eea6",
   "metadata": {},
   "outputs": [],
   "source": []
  },
  {
   "cell_type": "code",
   "execution_count": 9,
   "id": "11682ef6",
   "metadata": {},
   "outputs": [
    {
     "name": "stdout",
     "output_type": "stream",
     "text": [
      "('https://raw.githubusercontent.com/PokeAPI/sprites/master/sprites/pokemon/shiny/132.png', 'ditto')\n"
     ]
    }
   ],
   "source": [
    "info = response.json()[\"sprites\"][\"front_shiny\"],response.json()['name']\n",
    "\n",
    "print(info)\n"
   ]
  },
  {
   "cell_type": "code",
   "execution_count": null,
   "id": "9fc4bdae",
   "metadata": {},
   "outputs": [],
   "source": []
  },
  {
   "cell_type": "code",
   "execution_count": null,
   "id": "3cd81ff7",
   "metadata": {},
   "outputs": [],
   "source": []
  },
  {
   "cell_type": "code",
   "execution_count": null,
   "id": "a54f2a6b",
   "metadata": {},
   "outputs": [],
   "source": []
  },
  {
   "cell_type": "code",
   "execution_count": null,
   "id": "45831d28",
   "metadata": {},
   "outputs": [],
   "source": []
  },
  {
   "cell_type": "code",
   "execution_count": null,
   "id": "bfe12785",
   "metadata": {},
   "outputs": [],
   "source": []
  },
  {
   "cell_type": "code",
   "execution_count": null,
   "id": "4e8badfa",
   "metadata": {},
   "outputs": [],
   "source": []
  },
  {
   "cell_type": "code",
   "execution_count": null,
   "id": "4b11015f",
   "metadata": {},
   "outputs": [],
   "source": []
  },
  {
   "cell_type": "code",
   "execution_count": null,
   "id": "66efbf47",
   "metadata": {},
   "outputs": [],
   "source": []
  },
  {
   "cell_type": "code",
   "execution_count": null,
   "id": "2008bfdf",
   "metadata": {},
   "outputs": [],
   "source": []
  },
  {
   "cell_type": "code",
   "execution_count": 131,
   "id": "d3794c75",
   "metadata": {},
   "outputs": [
    {
     "data": {
      "text/plain": [
       "str"
      ]
     },
     "execution_count": 131,
     "metadata": {},
     "output_type": "execute_result"
    }
   ],
   "source": [
    "type(name)"
   ]
  },
  {
   "cell_type": "code",
   "execution_count": 12,
   "id": "be46a950",
   "metadata": {},
   "outputs": [
    {
     "data": {
      "text/plain": [
       "[{'Kimi Räikkönen': {'first_name': 'Kimi',\n",
       "   'last_name': 'Räikkönen',\n",
       "   'position': '1',\n",
       "   'wins': '2',\n",
       "   'DOB': '1979-10-17',\n",
       "   'nationality': 'Finnish',\n",
       "   'contructor': 'Ferrari'}},\n",
       " {'Felipe Massa': {'first_name': 'Felipe',\n",
       "   'last_name': 'Massa',\n",
       "   'position': '2',\n",
       "   'wins': '2',\n",
       "   'DOB': '1981-04-25',\n",
       "   'nationality': 'Brazilian',\n",
       "   'contructor': 'Ferrari'}},\n",
       " {'Lewis Hamilton': {'first_name': 'Lewis',\n",
       "   'last_name': 'Hamilton',\n",
       "   'position': '3',\n",
       "   'wins': '1',\n",
       "   'DOB': '1985-01-07',\n",
       "   'nationality': 'British',\n",
       "   'contructor': 'McLaren'}},\n",
       " {'Robert Kubica': {'first_name': 'Robert',\n",
       "   'last_name': 'Kubica',\n",
       "   'position': '4',\n",
       "   'wins': '0',\n",
       "   'DOB': '1984-12-07',\n",
       "   'nationality': 'Polish',\n",
       "   'contructor': 'BMW Sauber'}},\n",
       " {'Nick Heidfeld': {'first_name': 'Nick',\n",
       "   'last_name': 'Heidfeld',\n",
       "   'position': '5',\n",
       "   'wins': '0',\n",
       "   'DOB': '1977-05-10',\n",
       "   'nationality': 'German',\n",
       "   'contructor': 'BMW Sauber'}},\n",
       " {'Heikki Kovalainen': {'first_name': 'Heikki',\n",
       "   'last_name': 'Kovalainen',\n",
       "   'position': '6',\n",
       "   'wins': '0',\n",
       "   'DOB': '1981-10-19',\n",
       "   'nationality': 'Finnish',\n",
       "   'contructor': 'McLaren'}},\n",
       " {'Mark Webber': {'first_name': 'Mark',\n",
       "   'last_name': 'Webber',\n",
       "   'position': '7',\n",
       "   'wins': '0',\n",
       "   'DOB': '1976-08-27',\n",
       "   'nationality': 'Australian',\n",
       "   'contructor': 'Red Bull'}},\n",
       " {'Fernando Alonso': {'first_name': 'Fernando',\n",
       "   'last_name': 'Alonso',\n",
       "   'position': '8',\n",
       "   'wins': '0',\n",
       "   'DOB': '1981-07-29',\n",
       "   'nationality': 'Spanish',\n",
       "   'contructor': 'Renault'}},\n",
       " {'Jarno Trulli': {'first_name': 'Jarno',\n",
       "   'last_name': 'Trulli',\n",
       "   'position': '9',\n",
       "   'wins': '0',\n",
       "   'DOB': '1974-07-13',\n",
       "   'nationality': 'Italian',\n",
       "   'contructor': 'Toyota'}},\n",
       " {'Nico Rosberg': {'first_name': 'Nico',\n",
       "   'last_name': 'Rosberg',\n",
       "   'position': '10',\n",
       "   'wins': '0',\n",
       "   'DOB': '1985-06-27',\n",
       "   'nationality': 'German',\n",
       "   'contructor': 'Williams'}},\n",
       " {'Kazuki Nakajima': {'first_name': 'Kazuki',\n",
       "   'last_name': 'Nakajima',\n",
       "   'position': '11',\n",
       "   'wins': '0',\n",
       "   'DOB': '1985-01-11',\n",
       "   'nationality': 'Japanese',\n",
       "   'contructor': 'Williams'}},\n",
       " {'Jenson Button': {'first_name': 'Jenson',\n",
       "   'last_name': 'Button',\n",
       "   'position': '12',\n",
       "   'wins': '0',\n",
       "   'DOB': '1980-01-19',\n",
       "   'nationality': 'British',\n",
       "   'contructor': 'Honda'}},\n",
       " {'Sébastien Bourdais': {'first_name': 'Sébastien',\n",
       "   'last_name': 'Bourdais',\n",
       "   'position': '13',\n",
       "   'wins': '0',\n",
       "   'DOB': '1979-02-28',\n",
       "   'nationality': 'French',\n",
       "   'contructor': 'Toro Rosso'}},\n",
       " {'David Coulthard': {'first_name': 'David',\n",
       "   'last_name': 'Coulthard',\n",
       "   'position': '14',\n",
       "   'wins': '0',\n",
       "   'DOB': '1971-03-27',\n",
       "   'nationality': 'British',\n",
       "   'contructor': 'Red Bull'}},\n",
       " {'Timo Glock': {'first_name': 'Timo',\n",
       "   'last_name': 'Glock',\n",
       "   'position': '15',\n",
       "   'wins': '0',\n",
       "   'DOB': '1982-03-18',\n",
       "   'nationality': 'German',\n",
       "   'contructor': 'Toyota'}},\n",
       " {'Giancarlo Fisichella': {'first_name': 'Giancarlo',\n",
       "   'last_name': 'Fisichella',\n",
       "   'position': '16',\n",
       "   'wins': '0',\n",
       "   'DOB': '1973-01-14',\n",
       "   'nationality': 'Italian',\n",
       "   'contructor': 'Force India'}},\n",
       " {'Rubens Barrichello': {'first_name': 'Rubens',\n",
       "   'last_name': 'Barrichello',\n",
       "   'position': '17',\n",
       "   'wins': '0',\n",
       "   'DOB': '1972-05-23',\n",
       "   'nationality': 'Brazilian',\n",
       "   'contructor': 'Honda'}},\n",
       " {'Nelson Piquet Jr.': {'first_name': 'Nelson',\n",
       "   'last_name': 'Piquet Jr.',\n",
       "   'position': '18',\n",
       "   'wins': '0',\n",
       "   'DOB': '1985-07-25',\n",
       "   'nationality': 'Brazilian',\n",
       "   'contructor': 'Renault'}},\n",
       " {'Takuma Sato': {'first_name': 'Takuma',\n",
       "   'last_name': 'Sato',\n",
       "   'position': '19',\n",
       "   'wins': '0',\n",
       "   'DOB': '1977-01-28',\n",
       "   'nationality': 'Japanese',\n",
       "   'contructor': 'Super Aguri'}},\n",
       " {'Anthony Davidson': {'first_name': 'Anthony',\n",
       "   'last_name': 'Davidson',\n",
       "   'position': '20',\n",
       "   'wins': '0',\n",
       "   'DOB': '1979-04-18',\n",
       "   'nationality': 'British',\n",
       "   'contructor': 'Super Aguri'}},\n",
       " {'Adrian Sutil': {'first_name': 'Adrian',\n",
       "   'last_name': 'Sutil',\n",
       "   'position': '21',\n",
       "   'wins': '0',\n",
       "   'DOB': '1983-01-11',\n",
       "   'nationality': 'German',\n",
       "   'contructor': 'Force India'}},\n",
       " {'Sebastian Vettel': {'first_name': 'Sebastian',\n",
       "   'last_name': 'Vettel',\n",
       "   'position': '22',\n",
       "   'wins': '0',\n",
       "   'DOB': '1987-07-03',\n",
       "   'nationality': 'German',\n",
       "   'contructor': 'Toro Rosso'}}]"
      ]
     },
     "execution_count": 12,
     "metadata": {},
     "output_type": "execute_result"
    }
   ],
   "source": [
    "def get_racer_info(data):\n",
    "    new_data=[]\n",
    "    for racer in data:\n",
    "        racer_dict={}\n",
    "        racer_name = f\"{racer['Driver']['givenName']} {racer['Driver']['familyName']}\"\n",
    "        \n",
    "        racer_dict[racer_name]={\n",
    "            'first_name':racer['Driver']['givenName'],\n",
    "            'last_name':racer['Driver']['familyName'],\n",
    "            'position':racer['position'],\n",
    "            'wins':racer['wins'],\n",
    "            'DOB':racer['Driver']['dateOfBirth'],\n",
    "            'nationality':racer['Driver']['nationality'],\n",
    "            'contructor':racer['Constructors'][0]['name']\n",
    "        }\n",
    "        new_data.append(racer_dict)\n",
    "    return new_data\n",
    "\n",
    "get_racer_info(data)"
   ]
  },
  {
   "cell_type": "code",
   "execution_count": 17,
   "id": "3740c752",
   "metadata": {},
   "outputs": [
    {
     "data": {
      "text/plain": [
       "'We had an error loading your data likely the year or round is not in the database'"
      ]
     },
     "execution_count": 17,
     "metadata": {},
     "output_type": "execute_result"
    }
   ],
   "source": [
    "def get_driver_info_by_year_and_round(year,r):\n",
    "    url = f\"http://ergast.com/api/f1/{year}/{r}/driverStandings.json\"\n",
    "    response = requests.get(url)\n",
    "#     if not response.ok:\n",
    "    if not response.json()[\"MRData\"][\"StandingsTable\"][\"StandingsLists\"]:\n",
    "        return \"We had an error loading your data likely the year or round is not in the database\"\n",
    "    data = response.json()[\"MRData\"][\"StandingsTable\"][\"StandingsLists\"][0][\"DriverStandings\"]\n",
    "    return get_racer_info(data)\n",
    "\n",
    "get_driver_info_by_year_and_round(2022,4)"
   ]
  },
  {
   "cell_type": "markdown",
   "id": "6d546014",
   "metadata": {},
   "source": [
    "# <strong>Homework</strong>\n",
    "check out this Pokemon API https://pokeapi.co/\n",
    "Use the requests package to connect to this API and get and store data for 5 different pokemon.\n",
    "Get the pokemons: name, atleast one ability's name, base_experience, and the URL for its sprite (an image that shows up on screen) for the 'front_shiny'"
   ]
  },
  {
   "cell_type": "code",
   "execution_count": 6,
   "id": "5a9081e3",
   "metadata": {},
   "outputs": [
    {
     "name": "stdout",
     "output_type": "stream",
     "text": [
      "What pokemon are you looking for?ditto\n"
     ]
    },
    {
     "data": {
      "text/plain": [
       "{'ditto': {'image': 'https://raw.githubusercontent.com/PokeAPI/sprites/master/sprites/pokemon/shiny/132.png',\n",
       "  'moves': {'ability': {'name': 'limber',\n",
       "    'url': 'https://pokeapi.co/api/v2/ability/7/'},\n",
       "   'is_hidden': False,\n",
       "   'slot': 1},\n",
       "  'base': 101}}"
      ]
     },
     "execution_count": 6,
     "metadata": {},
     "output_type": "execute_result"
    }
   ],
   "source": [
    "def get_pokemon_info(pokemon):\n",
    "    pokemon = input(\"What pokemon are you looking for?\")\n",
    "    url = f'https://pokeapi.co/api/v2/pokemon/{pokemon}'\n",
    "    requests.get(url)\n",
    "    response = requests.get(url)\n",
    "    if response.ok:\n",
    "        my_dict = response.json()\n",
    "        pokemon_dict = {}\n",
    "        name =  response.json()[\"name\"]\n",
    "        pokemon_dict[name] = {\n",
    "        'image' : response.json()[\"sprites\"][\"front_shiny\"],\n",
    "        'moves' : response.json()[\"abilities\"][0],\n",
    "        'base' : response.json()[\"base_experience\"]\n",
    "    }\n",
    "    return pokemon_dict\n",
    "get_pokemon_info({pokemon})"
   ]
  },
  {
   "cell_type": "code",
   "execution_count": null,
   "id": "d1094ddd",
   "metadata": {},
   "outputs": [],
   "source": []
  }
 ],
 "metadata": {
  "kernelspec": {
   "display_name": "Python 3 (ipykernel)",
   "language": "python",
   "name": "python3"
  },
  "language_info": {
   "codemirror_mode": {
    "name": "ipython",
    "version": 3
   },
   "file_extension": ".py",
   "mimetype": "text/x-python",
   "name": "python",
   "nbconvert_exporter": "python",
   "pygments_lexer": "ipython3",
   "version": "3.9.13"
  },
  "vscode": {
   "interpreter": {
    "hash": "8b7db5e451bef359f2305c1daf80d011062206c01240efcd7b5a7947ee448498"
   }
  }
 },
 "nbformat": 4,
 "nbformat_minor": 5
}
